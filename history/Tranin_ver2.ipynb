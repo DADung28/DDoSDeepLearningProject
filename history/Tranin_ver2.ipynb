{
 "cells": [
  {
   "cell_type": "code",
   "execution_count": 1,
   "metadata": {},
   "outputs": [
    {
     "name": "stderr",
     "output_type": "stream",
     "text": [
      "2023-07-17 14:09:30,061\tINFO worker.py:1636 -- Started a local Ray instance.\n",
      "2023-07-17 14:09:34.984238: I tensorflow/core/platform/cpu_feature_guard.cc:182] This TensorFlow binary is optimized to use available CPU instructions in performance-critical operations.\n",
      "To enable the following instructions: SSE4.1 SSE4.2 AVX AVX2 AVX512F AVX512_VNNI FMA, in other operations, rebuild TensorFlow with the appropriate compiler flags.\n"
     ]
    }
   ],
   "source": [
    "# Import library for load data\n",
    "import ray\n",
    "ray.init(num_cpus=20)\n",
    "import modin.pandas as pd\n",
    "import matplotlib.pyplot as plt\n",
    "from sklearn.model_selection import train_test_split\n",
    "from sklearn.preprocessing import MaxAbsScaler\n",
    "import seaborn as sns\n",
    "from sklearn import linear_model\n",
    "from sklearn.preprocessing import MinMaxScaler\n",
    "from sklearn import preprocessing\n",
    "from sklearn.metrics import confusion_matrix\n",
    "from category_encoders import OrdinalEncoder\n",
    "from numpy import genfromtxt\n",
    "import sys\n",
    "import csv\n",
    "# Import deeplearning library\n",
    "import torch \n",
    "import torch.nn as nn\n",
    "import torch.optim as optim\n",
    "from torch.optim import lr_scheduler\n",
    "import torchvision\n",
    "from torchvision import datasets, models, transforms \n",
    "from torch.utils.data import Dataset\n",
    "from torchsummary import summary\n",
    "from torch.utils.tensorboard import SummaryWriter\n",
    "import matplotlib.pyplot as plt\n",
    "import time\n",
    "import os\n",
    "import copy\n",
    "import numpy as np "
   ]
  },
  {
   "cell_type": "code",
   "execution_count": 2,
   "metadata": {},
   "outputs": [],
   "source": [
    "# Define CUDA device \n",
    "device = torch.device('cuda' if torch.cuda.is_available() else 'cpu')"
   ]
  },
  {
   "cell_type": "code",
   "execution_count": 3,
   "metadata": {},
   "outputs": [
    {
     "name": "stdout",
     "output_type": "stream",
     "text": [
      "-------------ANALYZE DATASET-------------\n",
      "Loading dataset, please wait .....\n"
     ]
    },
    {
     "name": "stderr",
     "output_type": "stream",
     "text": [
      "UserWarning: When using a pre-initialized Ray cluster, please ensure that the runtime env sets environment variable __MODIN_AUTOIMPORT_PANDAS__ to 1\n"
     ]
    },
    {
     "name": "stdout",
     "output_type": "stream",
     "text": [
      "DONE!\n"
     ]
    }
   ],
   "source": [
    "print('-------------ANALYZE DATASET-------------')\n",
    "#Load dataset\n",
    "print(\"Loading dataset, please wait .....\")\n",
    "train = pd.read_csv('/home/jun/CICIDS2019/TrainCIC2019.csv')\n",
    "#test = pd.read_csv('/home/jun/CICIDS2019/TestCIC2019.csv')\n",
    "print(\"DONE!\")"
   ]
  },
  {
   "cell_type": "code",
   "execution_count": 4,
   "metadata": {},
   "outputs": [],
   "source": [
    "# The columns name of dataset is contain space, this function will strip it out (data = fix_columns_name(data))\n",
    "def fix_columns_name(data):\n",
    "    data.columns = [column_name.strip() for column_name in data.columns]\n",
    "    return data\n",
    "\n",
    "# Drop all string data in dataset (data = drop_non_numberic_columns(data))\n",
    "def drop_non_numberic_columns(data):\n",
    "    data.drop(['Unnamed: 0', 'Flow ID','Source IP','Destination IP', 'Timestamp', 'SimillarHTTP'], inplace=True, axis=1)\n",
    "    return data\n",
    "\n",
    "#Create a copy of pandas frame with dropped NaN and Inf value (data = drop_NaN(data))\n",
    "def drop_NaN(data):\n",
    "    dropped = data.copy(deep=True)\n",
    "    dropped.replace([np.inf, -np.inf], np.nan, inplace=True)\n",
    "    dropped.dropna(inplace=True)\n",
    "    return dropped\n",
    "\n",
    "# Return a dictionary of available labels and it number from dataset 'Label' column (labels_dict = available_lable(data))\n",
    "# Input: dataset\n",
    "# Output: \n",
    "# Traning dataset: {'Syn': 0, 'DrDoS_SNMP': 1, 'DrDoS_UDP': 2, 'DrDoS_DNS': 3, 'TFTP': 4, 'DrDoS_LDAP': 5, 'UDP-lag': 6, 'DrDoS_NTP': 7, 'DrDoS_MSSQL': 8, 'DrDoS_NetBIOS': 9, 'BENIGN': 10, 'WebDDoS': 11, 'DrDoS_SSDP': 12}\n",
    "# Testing dataset {'Syn': 0, 'NetBIOS': 1, 'UDPLag': 2, 'LDAP': 3, 'MSSQL': 4, 'BENIGN': 5, 'Portmap': 6, 'UDP': 7} \n",
    "def available_label(data):\n",
    "    data_labels = set(data['Label'])\n",
    "    labels_dict = {}\n",
    "    for i, label in enumerate(data_labels):\n",
    "        labels_dict.update({label:i})\n",
    "    return labels_dict\n",
    "\n",
    "# Caculate flow labels number and return dictionary of {labels : count}\n",
    "# train_flow_labels_count = flow_labels_count(data)\n",
    "def flows_labels_count(data):\n",
    "    labels = {}\n",
    "    for flow_label in data['Label']:\n",
    "        if flow_label in labels.keys():\n",
    "            labels[flow_label] += 1\n",
    "        else:\n",
    "            labels[flow_label] = 0\n",
    "    return labels\n",
    "\n",
    "# Encoding labels to assigned number for learning\n",
    "# data = encoding_lables('train', data)\n",
    "def encoding_labels(dataset_type, data):\n",
    "    if dataset_type == 'train':\n",
    "        labels_num = {'Syn': 0, 'DrDoS_SNMP': 1, 'DrDoS_UDP': 2, 'DrDoS_DNS': 3, 'TFTP': 4, 'DrDoS_LDAP': 5, 'UDP-lag': 6, 'DrDoS_NTP': 7, 'DrDoS_MSSQL': 8, 'DrDoS_NetBIOS': 9, 'BENIGN': 10, 'WebDDoS': 11, 'DrDoS_SSDP': 12}\n",
    "    elif dataset_type == 'test':\n",
    "        labels_num = {'Syn': 0, 'NetBIOS': 9, 'UDPLag': 6, 'LDAP': 5, 'MSSQL': 8, 'BENIGN': 10, 'Portmap': 13, 'UDP': 6} \n",
    "    for label, number in labels_num.items():\n",
    "        data['Label'] = data['Label'].replace(label, number)\n",
    "    return data\n",
    "\n",
    "# Ploting data\n",
    "def data_plot(data):\n",
    "    data_flow_labels_count = flows_labels_count(data)\n",
    "    for flow_label, flow_number in data_flow_labels_count.items():\n",
    "        print('Number of {} flow is: {}/{} ({:.2f})'.format(flow_label, flow_number, sum(data_flow_labels_count.values()), flow_number/sum(data_flow_labels_count.values())*100))\n",
    "    #Create Flow Number based on label Figure\n",
    "    data_flows_figure_num = plt.figure(figsize = (20, 5))\n",
    "    # creating the bar plot\n",
    "    plt.bar(data_flow_labels_count.keys(), data_flow_labels_count.values(), color ='red',\n",
    "            width = 0.5)\n",
    "    plt.xlabel(\"Flows Label\")\n",
    "    plt.ylabel(\"Number of FLows\")\n",
    "    plt.title(\"Flows label and number\")\n",
    "    plt.show()"
   ]
  },
  {
   "cell_type": "code",
   "execution_count": 5,
   "metadata": {},
   "outputs": [],
   "source": [
    "# Fix columns name\n",
    "train = fix_columns_name(train)\n",
    "#test = fix_columns_name(test)"
   ]
  },
  {
   "cell_type": "code",
   "execution_count": 6,
   "metadata": {},
   "outputs": [
    {
     "name": "stdout",
     "output_type": "stream",
     "text": [
      "Available labels of training data set: {'DrDoS_SNMP': 0, 'DrDoS_NTP': 1, 'DrDoS_DNS': 2, 'DrDoS_MSSQL': 3, 'DrDoS_SSDP': 4, 'BENIGN': 5, 'TFTP': 6, 'DrDoS_UDP': 7, 'DrDoS_LDAP': 8, 'Syn': 9, 'DrDoS_NetBIOS': 10, 'UDP-lag': 11, 'WebDDoS': 12}\n"
     ]
    }
   ],
   "source": [
    "# Get dictionary of available labels in data\n",
    "print('Available labels of training data set:', available_label(train))\n",
    "#print('Available labels of testing data set:', available_label(test))"
   ]
  },
  {
   "cell_type": "code",
   "execution_count": 7,
   "metadata": {},
   "outputs": [
    {
     "name": "stdout",
     "output_type": "stream",
     "text": [
      "Train Dataset: Contain NaN values columns: ['Flow Bytes/s']\n",
      "Train Dataset Contain infinity values columns: ['Flow Bytes/s', 'Flow Packets/s']\n"
     ]
    }
   ],
   "source": [
    "#Check for NaN and Inf Columnns\n",
    "print(\"Train Dataset: Contain NaN values columns:\", train.columns[train.isna().any()].tolist())\n",
    "print(\"Train Dataset Contain infinity values columns:\", train.columns[train.isin([np.inf, -np.inf]).any()].tolist())\n",
    "#print(\"Test Dataset: Contain NaN values columns:\", test.columns[test.isna().any()].tolist())\n",
    "#print(\"Test Dataset Contain infinity values columns:\", test.columns[test.isin([np.inf, -np.inf]).any()].tolist())"
   ]
  },
  {
   "cell_type": "code",
   "execution_count": 8,
   "metadata": {},
   "outputs": [
    {
     "name": "stdout",
     "output_type": "stream",
     "text": [
      "Training data plot\n",
      "Number of DrDoS_DNS flow is: 5071010/50063099 (10.13)\n",
      "Number of BENIGN flow is: 56862/50063099 (0.11)\n",
      "Number of DrDoS_LDAP flow is: 2179929/50063099 (4.35)\n",
      "Number of DrDoS_MSSQL flow is: 4522491/50063099 (9.03)\n",
      "Number of DrDoS_NetBIOS flow is: 4093278/50063099 (8.18)\n",
      "Number of DrDoS_NTP flow is: 1202641/50063099 (2.40)\n",
      "Number of DrDoS_SNMP flow is: 5159869/50063099 (10.31)\n",
      "Number of DrDoS_SSDP flow is: 2610610/50063099 (5.21)\n",
      "Number of DrDoS_UDP flow is: 3134644/50063099 (6.26)\n",
      "Number of Syn flow is: 1582288/50063099 (3.16)\n",
      "Number of TFTP flow is: 20082579/50063099 (40.11)\n",
      "Number of UDP-lag flow is: 366460/50063099 (0.73)\n",
      "Number of WebDDoS flow is: 438/50063099 (0.00)\n"
     ]
    },
    {
     "data": {
      "image/png": "[encoded data removed]",
      "text/plain": [
       "<Figure size 2000x500 with 1 Axes>"
      ]
     },
     "metadata": {},
     "output_type": "display_data"
    }
   ],
   "source": [
    "#Traing data plot\n",
    "print('Training data plot')\n",
    "data_plot(train)"
   ]
  },
  {
   "cell_type": "code",
   "execution_count": 9,
   "metadata": {},
   "outputs": [],
   "source": [
    "#Testing data plot\n",
    "#Traing data plot\n",
    "#print('Testing data plot')\n",
    "#data_plot(test)"
   ]
  },
  {
   "cell_type": "code",
   "execution_count": 10,
   "metadata": {},
   "outputs": [],
   "source": [
    "# Get train and test labels count before drop NaN and inf\n",
    "train_flow_labels_count = flows_labels_count(train)\n",
    "#test_flow_labels_count = flows_labels_count(test)"
   ]
  },
  {
   "cell_type": "code",
   "execution_count": 11,
   "metadata": {},
   "outputs": [],
   "source": [
    "# Drop NaN and inf\n",
    "train = drop_NaN(train)\n",
    "#test = drop_NaN(test)"
   ]
  },
  {
   "cell_type": "code",
   "execution_count": 12,
   "metadata": {},
   "outputs": [],
   "source": [
    "# Get train and test labels count after drop NaN and inf\n",
    "train_dropped_flow_labels_count = flows_labels_count(train)\n",
    "#test_dropped_flow_labels_count = flows_labels_count(test)"
   ]
  },
  {
   "cell_type": "code",
   "execution_count": 13,
   "metadata": {},
   "outputs": [
    {
     "name": "stdout",
     "output_type": "stream",
     "text": [
      "(DrDoS_DNS) Dropped train flow number is: 162346 (3.31%)\n",
      "(BENIGN) Dropped train flow number is: 438 (0.78%)\n",
      "(DrDoS_LDAP) Dropped train flow number is: 38630 (1.80%)\n",
      "(DrDoS_MSSQL) Dropped train flow number is: 126446 (2.88%)\n",
      "(DrDoS_NetBIOS) Dropped train flow number is: 129833 (3.28%)\n",
      "(DrDoS_NTP) Dropped train flow number is: 6952 (0.58%)\n",
      "(DrDoS_SNMP) Dropped train flow number is: 10609 (0.21%)\n",
      "(DrDoS_SSDP) Dropped train flow number is: 42042 (1.64%)\n",
      "(DrDoS_UDP) Dropped train flow number is: 40643 (1.31%)\n",
      "(Syn) Dropped train flow number is: 202306 (14.66%)\n",
      "(TFTP) Dropped train flow number is: 566609 (2.90%)\n",
      "(UDP-lag) Dropped train flow number is: 36382 (11.02%)\n",
      "(WebDDoS) Dropped train flow number is: 0 (0.00%)\n"
     ]
    }
   ],
   "source": [
    "# Get train dataset dropped labels number\n",
    "for flow_label, flow_number in train_dropped_flow_labels_count.items():\n",
    "    print('({}) Dropped train flow number is: {} ({:.2f}%)'.format(flow_label, -flow_number + train_flow_labels_count[flow_label], (-flow_number + train_flow_labels_count[flow_label])/flow_number*100))\n",
    "# Get test dataset dropped labels number\n",
    "#for flow_label, flow_number in test_dropped_flow_labels_count.items():\n",
    "#    print('({}) Dropped test flow number is: {} ({:.2f}%)'.format(flow_label, -flow_number + test_flow_labels_count[flow_label], (-flow_number + test_flow_labels_count[flow_label])/flow_number*100))"
   ]
  },
  {
   "cell_type": "code",
   "execution_count": 14,
   "metadata": {},
   "outputs": [
    {
     "name": "stdout",
     "output_type": "stream",
     "text": [
      "Unnamed: 0 : 425\n",
      "Flow ID : 172.16.0.5-192.168.50.1-634-60495-17\n",
      "Source IP : 172.16.0.5\n",
      "Source Port : 634\n",
      "Destination IP : 192.168.50.1\n",
      "Destination Port : 60495\n",
      "Protocol : 17\n",
      "Timestamp : 2018-12-01 10:51:39.813448\n",
      "Flow Duration : 28415\n",
      "Total Fwd Packets : 97\n",
      "Total Backward Packets : 0\n",
      "Total Length of Fwd Packets : 42680.0\n",
      "Total Length of Bwd Packets : 0.0\n",
      "Fwd Packet Length Max : 440.0\n",
      "Fwd Packet Length Min : 440.0\n",
      "Fwd Packet Length Mean : 440.0\n",
      "Fwd Packet Length Std : 0.0\n",
      "Bwd Packet Length Max : 0.0\n",
      "Bwd Packet Length Min : 0.0\n",
      "Bwd Packet Length Mean : 0.0\n",
      "Bwd Packet Length Std : 0.0\n",
      "Flow Bytes/s : 1502023.5790955485\n",
      "Flow Packets/s : 3413.689952489882\n",
      "Flow IAT Mean : 295.98958333333337\n",
      "Flow IAT Std : 500.95930068517794\n",
      "Flow IAT Max : 3596.0\n",
      "Flow IAT Min : 1.0\n",
      "Fwd IAT Total : 28415.0\n",
      "Fwd IAT Mean : 295.98958333333337\n",
      "Fwd IAT Std : 500.95930068517794\n",
      "Fwd IAT Max : 3596.0\n",
      "Fwd IAT Min : 1.0\n",
      "Bwd IAT Total : 0.0\n",
      "Bwd IAT Mean : 0.0\n",
      "Bwd IAT Std : 0.0\n",
      "Bwd IAT Max : 0.0\n",
      "Bwd IAT Min : 0.0\n",
      "Fwd PSH Flags : 0.0\n",
      "Bwd PSH Flags : 0.0\n",
      "Fwd URG Flags : 0.0\n",
      "Bwd URG Flags : 0.0\n",
      "Fwd Header Length : -97.0\n",
      "Bwd Header Length : 0.0\n",
      "Fwd Packets/s : 3413.689952489882\n",
      "Bwd Packets/s : 0.0\n",
      "Min Packet Length : 440.0\n",
      "Max Packet Length : 440.0\n",
      "Packet Length Mean : 440.0\n",
      "Packet Length Std : 0.0\n",
      "Packet Length Variance : 0.0\n",
      "FIN Flag Count : 0.0\n",
      "SYN Flag Count : 0.0\n",
      "RST Flag Count : 0.0\n",
      "PSH Flag Count : 0.0\n",
      "ACK Flag Count : 0.0\n",
      "URG Flag Count : 0.0\n",
      "CWE Flag Count : 0.0\n",
      "ECE Flag Count : 0.0\n",
      "Down/Up Ratio : 0.0\n",
      "Average Packet Size : 444.5360824742268\n",
      "Avg Fwd Segment Size : 440.0\n",
      "Avg Bwd Segment Size : 0.0\n",
      "Fwd Header Length.1 : -97.0\n",
      "Fwd Avg Bytes/Bulk : 0.0\n",
      "Fwd Avg Packets/Bulk : 0\n",
      "Fwd Avg Bulk Rate : 0\n",
      "Bwd Avg Bytes/Bulk : 0\n",
      "Bwd Avg Packets/Bulk : 0\n",
      "Bwd Avg Bulk Rate : 0\n",
      "Subflow Fwd Packets : 97\n",
      "Subflow Fwd Bytes : 42680\n",
      "Subflow Bwd Packets : 0\n",
      "Subflow Bwd Bytes : 0\n",
      "Init_Win_bytes_forward : -1\n",
      "Init_Win_bytes_backward : -1\n",
      "act_data_pkt_fwd : 96\n",
      "min_seg_size_forward : -1\n",
      "Active Mean : 0.0\n",
      "Active Std : 0.0\n",
      "Active Max : 0.0\n",
      "Active Min : 0.0\n",
      "Idle Mean : 0.0\n",
      "Idle Std : 0.0\n",
      "Idle Max : 0.0\n",
      "Idle Min : 0.0\n",
      "SimillarHTTP : 0\n",
      "Inbound : 1\n",
      "Label : DrDoS_DNS\n"
     ]
    }
   ],
   "source": [
    "row_sample = train.iloc[0]\n",
    "columns = list(train.columns)\n",
    "for i, data in enumerate(row_sample):\n",
    "    print(columns[i],':',data)"
   ]
  },
  {
   "cell_type": "code",
   "execution_count": 15,
   "metadata": {},
   "outputs": [],
   "source": [
    "# Encoding train dataset label\n",
    "train = encoding_labels('train', train)\n",
    "#test = encoding_labels('test', test)"
   ]
  },
  {
   "cell_type": "code",
   "execution_count": 16,
   "metadata": {},
   "outputs": [],
   "source": [
    "# Drop num numberic columns ('Flow ID','Source IP','Destination IP', 'Timestamp', 'SimillarHTTP')\n",
    "train = drop_non_numberic_columns(train)\n",
    "#test = drop_non_numberic_columns(test)"
   ]
  },
  {
   "cell_type": "code",
   "execution_count": 17,
   "metadata": {},
   "outputs": [
    {
     "name": "stdout",
     "output_type": "stream",
     "text": [
      "          Source Port  Destination Port  Protocol  Flow Duration  \\\n",
      "0                 634             60495        17          28415   \n",
      "1                 634             60495        17              2   \n",
      "2                 634             46391        17          48549   \n",
      "3                 634             11894        17          48337   \n",
      "4                 634             27878        17          32026   \n",
      "...               ...               ...       ...            ...   \n",
      "50063106        60489             27808         6              1   \n",
      "50063107        60490             14102         6              1   \n",
      "50063108        60491             58360         6              1   \n",
      "50063109        60492              2905         6              2   \n",
      "50063111        60494             44935         6            134   \n",
      "\n",
      "          Total Fwd Packets  Total Backward Packets  \\\n",
      "0                        97                       0   \n",
      "1                         2                       0   \n",
      "2                       200                       0   \n",
      "3                       200                       0   \n",
      "4                       200                       0   \n",
      "...                     ...                     ...   \n",
      "50063106                  2                       0   \n",
      "50063107                  2                       0   \n",
      "50063108                  2                       0   \n",
      "50063109                  2                       0   \n",
      "50063111                  2                       2   \n",
      "\n",
      "          Total Length of Fwd Packets  Total Length of Bwd Packets  \\\n",
      "0                             42680.0                          0.0   \n",
      "1                               880.0                          0.0   \n",
      "2                             88000.0                          0.0   \n",
      "3                             88000.0                          0.0   \n",
      "4                             88000.0                          0.0   \n",
      "...                               ...                          ...   \n",
      "50063106                          0.0                          0.0   \n",
      "50063107                          0.0                          0.0   \n",
      "50063108                          0.0                          0.0   \n",
      "50063109                          0.0                          0.0   \n",
      "50063111                          0.0                          0.0   \n",
      "\n",
      "          Fwd Packet Length Max  Fwd Packet Length Min  ...  Active Mean  \\\n",
      "0                         440.0                  440.0  ...          0.0   \n",
      "1                         440.0                  440.0  ...          0.0   \n",
      "2                         440.0                  440.0  ...          0.0   \n",
      "3                         440.0                  440.0  ...          0.0   \n",
      "4                         440.0                  440.0  ...          0.0   \n",
      "...                         ...                    ...  ...          ...   \n",
      "50063106                    0.0                    0.0  ...          0.0   \n",
      "50063107                    0.0                    0.0  ...          0.0   \n",
      "50063108                    0.0                    0.0  ...          0.0   \n",
      "50063109                    0.0                    0.0  ...          0.0   \n",
      "50063111                    0.0                    0.0  ...          0.0   \n",
      "\n",
      "          Active Std  Active Max  Active Min  Idle Mean  Idle Std  Idle Max  \\\n",
      "0                0.0         0.0         0.0        0.0       0.0       0.0   \n",
      "1                0.0         0.0         0.0        0.0       0.0       0.0   \n",
      "2                0.0         0.0         0.0        0.0       0.0       0.0   \n",
      "3                0.0         0.0         0.0        0.0       0.0       0.0   \n",
      "4                0.0         0.0         0.0        0.0       0.0       0.0   \n",
      "...              ...         ...         ...        ...       ...       ...   \n",
      "50063106         0.0         0.0         0.0        0.0       0.0       0.0   \n",
      "50063107         0.0         0.0         0.0        0.0       0.0       0.0   \n",
      "50063108         0.0         0.0         0.0        0.0       0.0       0.0   \n",
      "50063109         0.0         0.0         0.0        0.0       0.0       0.0   \n",
      "50063111         0.0         0.0         0.0        0.0       0.0       0.0   \n",
      "\n",
      "          Idle Min  Inbound  Label  \n",
      "0              0.0        1      3  \n",
      "1              0.0        0      3  \n",
      "2              0.0        1      3  \n",
      "3              0.0        1      3  \n",
      "4              0.0        1      3  \n",
      "...            ...      ...    ...  \n",
      "50063106       0.0        1      6  \n",
      "50063107       0.0        1      6  \n",
      "50063108       0.0        1      6  \n",
      "50063109       0.0        1      6  \n",
      "50063111       0.0        1      6  \n",
      "\n",
      "[48699876 rows x 82 columns]\n"
     ]
    }
   ],
   "source": [
    "print(train)"
   ]
  },
  {
   "cell_type": "code",
   "execution_count": 18,
   "metadata": {},
   "outputs": [
    {
     "name": "stderr",
     "output_type": "stream",
     "text": [
      "\u001b[2m\u001b[36m(raylet)\u001b[0m Spilled 3319 MiB, 9 objects, write throughput 993 MiB/s. Set RAY_verbose_spill_logs=0 to disable this message.\n",
      "\u001b[2m\u001b[36m(raylet)\u001b[0m Spilled 6898 MiB, 18 objects, write throughput 1297 MiB/s.\n",
      "\u001b[2m\u001b[36m(raylet)\u001b[0m Spilled 11292 MiB, 46 objects, write throughput 1076 MiB/s.\n"
     ]
    }
   ],
   "source": [
    "#Shuffle data for training \n",
    "train = train.sample(frac=1)"
   ]
  },
  {
   "cell_type": "code",
   "execution_count": 19,
   "metadata": {},
   "outputs": [
    {
     "name": "stderr",
     "output_type": "stream",
     "text": [
      "\u001b[2m\u001b[36m(raylet)\u001b[0m Spilled 16653 MiB, 81 objects, write throughput 1075 MiB/s.\n",
      "\u001b[2m\u001b[36m(raylet)\u001b[0m Spilled 65721 MiB, 251 objects, write throughput 2429 MiB/s.\n",
      "\u001b[2m\u001b[36m(raylet)\u001b[0m Spilled 66222 MiB, 252 objects, write throughput 2381 MiB/s.\n",
      "\u001b[2m\u001b[33m(raylet)\u001b[0m [2023-07-17 14:17:27,637 E 1673960 1673973] (raylet) file_system_monitor.cc:111: /tmp/ray/session_2023-07-17_14-09-28_263214_1660541 is over 95% full, available space: 13390778368; capacity: 269702828032. Object creation will fail if spilling is required.\n",
      "\u001b[2m\u001b[33m(raylet)\u001b[0m [2023-07-17 14:17:37,656 E 1673960 1673973] (raylet) file_system_monitor.cc:111: /tmp/ray/session_2023-07-17_14-09-28_263214_1660541 is over 95% full, available space: 1237012480; capacity: 269702828032. Object creation will fail if spilling is required.\n",
      "2023-07-17 14:17:41,927\tWARNING worker.py:2019 -- Traceback (most recent call last):\n",
      "  File \"python/ray/_raylet.pyx\", line 1911, in ray._raylet.spill_objects_handler\n",
      "  File \"python/ray/_raylet.pyx\", line 1914, in ray._raylet.spill_objects_handler\n",
      "  File \"/home/jun/miniconda3/envs/py311/lib/python3.11/site-packages/ray/_private/external_storage.py\", line 668, in spill_objects\n",
      "    return _external_storage.spill_objects(object_refs, owner_addresses)\n",
      "           ^^^^^^^^^^^^^^^^^^^^^^^^^^^^^^^^^^^^^^^^^^^^^^^^^^^^^^^^^^^^^\n",
      "  File \"/home/jun/miniconda3/envs/py311/lib/python3.11/site-packages/ray/_private/external_storage.py\", line 305, in spill_objects\n",
      "    return self._write_multiple_objects(f, object_refs, owner_addresses, url)\n",
      "           ^^^^^^^^^^^^^^^^^^^^^^^^^^^^^^^^^^^^^^^^^^^^^^^^^^^^^^^^^^^^^^^^^^\n",
      "  File \"/home/jun/miniconda3/envs/py311/lib/python3.11/site-packages/ray/_private/external_storage.py\", line 149, in _write_multiple_objects\n",
      "    written_bytes = f.write(payload)\n",
      "                    ^^^^^^^^^^^^^^^^\n",
      "OSError: [Errno 28] No space left on device\n",
      "An unexpected internal error occurred while the IO worker was spilling objects: [Errno 28] No space left on device\n"
     ]
    }
   ],
   "source": [
    "# Change data to numpy\n",
    "train_day = train.to_numpy()\n",
    "#test_day = test.to_numpy()"
   ]
  },
  {
   "cell_type": "code",
   "execution_count": 20,
   "metadata": {},
   "outputs": [],
   "source": [
    "#np.savetxt('/disk2/jun/TrainCICIDS2019_np.csv', train_day, delimiter=',')"
   ]
  },
  {
   "cell_type": "code",
   "execution_count": 21,
   "metadata": {},
   "outputs": [],
   "source": [
    "train_day_X = train_day[:, :81]\n",
    "train_day_y = train_day[:, 81]\n",
    "#test_day_X = test_day[:, :81]\n",
    "#test_day_y = test_day[:, 81]"
   ]
  },
  {
   "cell_type": "code",
   "execution_count": 22,
   "metadata": {},
   "outputs": [],
   "source": [
    "# Normalize data to range (0, 1)\n",
    "scaler = MinMaxScaler()\n",
    "scaler.fit(train_day_X)\n",
    "train_normalized = scaler.transform(train_day_X)\n",
    "#scaler.fit(test_day_X)\n",
    "#train_normalized = scaler.transform(test_day_X)"
   ]
  },
  {
   "cell_type": "code",
   "execution_count": 65,
   "metadata": {},
   "outputs": [],
   "source": [
    "# Slit training day data to train and test\n",
    "X_train, X_val_test, y_train, y_val_test = train_test_split(train_day_X, train_day_y, test_size=0.2, random_state=42)\n",
    "X_val, X_test, y_val, y_test = train_test_split(X_val_test, y_val_test, test_size=0.999, random_state=42) "
   ]
  },
  {
   "cell_type": "code",
   "execution_count": 66,
   "metadata": {},
   "outputs": [
    {
     "name": "stdout",
     "output_type": "stream",
     "text": [
      "X_train shape: (38959900, 81), y_train shape: (38959900,)\n",
      "X_val shape: (9739, 81), y_val shape: (9739,)\n",
      "X_test shape: (9730237, 81), y_test shape: (9730237,)\n"
     ]
    }
   ],
   "source": [
    "print('X_train shape: {}, y_train shape: {}'.format(X_train.shape, y_train.shape))\n",
    "print('X_val shape: {}, y_val shape: {}'.format(X_val.shape, y_val.shape))\n",
    "print('X_test shape: {}, y_test shape: {}'.format(X_test.shape, y_test.shape))"
   ]
  },
  {
   "cell_type": "code",
   "execution_count": null,
   "metadata": {},
   "outputs": [],
   "source": [
    "# Define Deeplearning parameters\n",
    "batch_size = 100000\n",
    "learning_rate = 0.005\n",
    "num_epochs = 100"
   ]
  },
  {
   "cell_type": "code",
   "execution_count": null,
   "metadata": {},
   "outputs": [],
   "source": [
    "# Custom dataset class\n",
    "class MyDataset(Dataset):\n",
    "    def __init__(self, data, labels):\n",
    "        self.data = torch.from_numpy(data)\n",
    "        self.labels = torch.from_numpy(labels)\n",
    "\n",
    "    def __len__(self):\n",
    "        return len(self.data)\n",
    "\n",
    "    def __getitem__(self, index):\n",
    "        return self.data[index], self.labels[index]\n",
    "\n",
    "Train_dataset = MyDataset(X_train.astype(np.float32), y_train.astype(np.float32))\n",
    "Val_dataset = MyDataset(X_val.astype(np.float32), y_val.astype(np.float32))\n",
    "Test_dataset = MyDataset(X_test.astype(np.float32), y_test.astype(np.float32))\n",
    "\n",
    "# Create a data loader for batch training\n",
    "train_loader = torch.utils.data.DataLoader(Train_dataset, batch_size=batch_size, shuffle=True)\n",
    "val_loader = torch.utils.data.DataLoader(Val_dataset, batch_size=batch_size, shuffle=False)\n",
    "test_loader = torch.utils.data.DataLoader(Test_dataset, batch_size=batch_size, shuffle=False)"
   ]
  },
  {
   "cell_type": "code",
   "execution_count": null,
   "metadata": {},
   "outputs": [],
   "source": [
    "# Neural Model\n",
    "# ANN (inputs_size = 81, 128, 256, 512, 256, 128, 13)\n",
    "class NeuralNet(nn.Module):\n",
    "    def __init__(self):\n",
    "        super(NeuralNet, self).__init__()\n",
    "        self.l1 = nn.Linear(81, 128)\n",
    "        self.l2 = nn.Linear(128, 256)\n",
    "        self.l3 = nn.Linear(256, 512)\n",
    "        self.l4 = nn.Linear(512, 256)\n",
    "        self.l5 = nn.Linear(256, 128)\n",
    "        self.l6 = nn.Linear(128, 13)\n",
    "        self.relu = nn.ReLU()\n",
    "        self.dropout = nn.Dropout(0.25)\n",
    "        \n",
    "    \n",
    "    def forward(self, x):\n",
    "        out = self.l1(x)\n",
    "        out = self.relu(out)\n",
    "        out = self.l2(out)\n",
    "        out = self.relu(out)\n",
    "        out = self.l3(out)\n",
    "        out = self.relu(out)\n",
    "        out = self.dropout(out)\n",
    "        out = self.l4(out)\n",
    "        out = self.relu(out)\n",
    "        out = self.dropout(out)\n",
    "        out = self.l5(out)\n",
    "        out = self.relu(out)\n",
    "        out = self.dropout(out)\n",
    "        out = self.l6(out)\n",
    "        return out"
   ]
  },
  {
   "cell_type": "code",
   "execution_count": null,
   "metadata": {},
   "outputs": [],
   "source": [
    "def get_test_loss_acc(net, criterion, data_loader):\n",
    "  \"\"\"A simple function that iterates over `data_loader` to calculate the overall loss\"\"\"\n",
    "  testing_loss = []\n",
    "  testing_acc = []\n",
    "  avg_loss = 0\n",
    "  arg_acc = 0\n",
    "  with torch.no_grad():\n",
    "    for data in data_loader:\n",
    "      inputs, labels = data\n",
    "      # get the data to GPU (if available)\n",
    "      inputs, labels = inputs.to(device), labels.to(device, dtype = torch.long) # Change to data type long to not rise error\n",
    "      outputs = net(inputs)\n",
    "      # calculate the loss for this batch\n",
    "      loss = criterion(outputs, labels)\n",
    "      # add the loss of this batch to the list\n",
    "      testing_loss.append(loss.item())\n",
    "      _, predicted = torch.max(outputs, 1) # Get prediction on batch (shape: batch_size)\n",
    "      batch_correct_predicted = (predicted == labels).sum().item() # Get number of true prediction on batch\n",
    "      testing_acc.append(batch_correct_predicted/batch_size*100) # Append prediction accuracy of this batch\n",
    "  avg_loss = np.mean(testing_loss) \n",
    "  avg_acc = np.mean(testing_acc) \n",
    "      \n",
    "  # calculate the average loss\n",
    "  return {'loss': avg_loss, 'acc': avg_acc}"
   ]
  },
  {
   "cell_type": "code",
   "execution_count": null,
   "metadata": {},
   "outputs": [
    {
     "data": {
      "text/plain": [
       "NeuralNet(\n",
       "  (l1): Linear(in_features=81, out_features=128, bias=True)\n",
       "  (l2): Linear(in_features=128, out_features=256, bias=True)\n",
       "  (l3): Linear(in_features=256, out_features=512, bias=True)\n",
       "  (l4): Linear(in_features=512, out_features=256, bias=True)\n",
       "  (l5): Linear(in_features=256, out_features=128, bias=True)\n",
       "  (l6): Linear(in_features=128, out_features=13, bias=True)\n",
       "  (relu): ReLU()\n",
       "  (dropout): Dropout(p=0.25, inplace=False)\n",
       ")"
      ]
     },
     "execution_count": 99,
     "metadata": {},
     "output_type": "execute_result"
    }
   ],
   "source": [
    "model = NeuralNet()\n",
    "model.to(device)"
   ]
  },
  {
   "cell_type": "code",
   "execution_count": null,
   "metadata": {},
   "outputs": [],
   "source": [
    "# Loss and Optimizer\n",
    "criterion = nn.CrossEntropyLoss()\n",
    "optimizer = torch.optim.Adam(model.parameters(), lr = learning_rate)\n",
    "writer = SummaryWriter()"
   ]
  },
  {
   "cell_type": "code",
   "execution_count": null,
   "metadata": {},
   "outputs": [],
   "source": [
    "# Learning rate scheduler\n",
    "scheduler = torch.optim.lr_scheduler.StepLR(optimizer, step_size=10, gamma=0.1)"
   ]
  },
  {
   "cell_type": "code",
   "execution_count": null,
   "metadata": {},
   "outputs": [
    {
     "data": {
      "text/plain": [
       "53"
      ]
     },
     "execution_count": 102,
     "metadata": {},
     "output_type": "execute_result"
    }
   ],
   "source": [
    "f = open('/home/jun/CICIDS2019/ANN.csv', 'w')\n",
    "writer = csv.writer(f)\n",
    "header = ['10000 batch', 'train_loss', 'train_acc', 'test_loss', 'test_acc']\n",
    "writer.writerow(header)\n"
   ]
  },
  {
   "cell_type": "code",
   "execution_count": 104,
   "metadata": {},
   "outputs": [
    {
     "name": "stdout",
     "output_type": "stream",
     "text": [
      "epoch 1/100, step [1/390], train_loss = 525596.000, train_acc = 6.987\n",
      "epoch 1/100, step [2/390], train_loss = 112702.148, train_acc = 8.057\n",
      "epoch 1/100, step [3/390], train_loss = 59288.746, train_acc = 7.681\n",
      "epoch 1/100, step [4/390], train_loss = 15413.145, train_acc = 5.723\n",
      "epoch 1/100, step [5/390], train_loss = 409.819, train_acc = 6.196\n",
      "epoch 1/100, step [6/390], train_loss = 9.318, train_acc = 6.351\n",
      "epoch 1/100, step [7/390], train_loss = 7.631, train_acc = 7.015\n",
      "epoch 1/100, step [8/390], train_loss = 7.907, train_acc = 12.139\n",
      "epoch 1/100, step [9/390], train_loss = 3.782, train_acc = 22.854\n",
      "epoch 1/100, step [10/390], train_loss = 3.714, train_acc = 31.344\n",
      "epoch 1/100, step [11/390], train_loss = 2.549, train_acc = 36.233\n",
      "epoch 1/100, step [12/390], train_loss = 2.464, train_acc = 38.533\n",
      "epoch 1/100, step [13/390], train_loss = 2.454, train_acc = 39.330\n",
      "epoch 1/100, step [14/390], train_loss = 2.444, train_acc = 39.885\n",
      "epoch 1/100, step [15/390], train_loss = 2.433, train_acc = 40.058\n",
      "epoch 1/100, step [16/390], train_loss = 2.422, train_acc = 39.992\n",
      "epoch 1/100, step [17/390], train_loss = 2.411, train_acc = 40.246\n",
      "epoch 1/100, step [18/390], train_loss = 2.402, train_acc = 39.975\n",
      "epoch 1/100, step [19/390], train_loss = 2.392, train_acc = 39.890\n",
      "epoch 1/100, step [20/390], train_loss = 2.381, train_acc = 40.146\n",
      "epoch 1/100, step [21/390], train_loss = 2.371, train_acc = 39.903\n",
      "epoch 1/100, step [22/390], train_loss = 2.361, train_acc = 39.970\n",
      "epoch 1/100, step [23/390], train_loss = 2.351, train_acc = 40.075\n",
      "epoch 1/100, step [24/390], train_loss = 2.340, train_acc = 40.159\n",
      "epoch 1/100, step [25/390], train_loss = 2.338, train_acc = 40.177\n",
      "epoch 1/100, step [26/390], train_loss = 2.323, train_acc = 39.924\n",
      "epoch 1/100, step [27/390], train_loss = 2.314, train_acc = 39.999\n",
      "epoch 1/100, step [28/390], train_loss = 2.304, train_acc = 40.238\n",
      "epoch 1/100, step [29/390], train_loss = 2.295, train_acc = 39.952\n",
      "epoch 1/100, step [30/390], train_loss = 2.288, train_acc = 39.717\n",
      "epoch 1/100, step [31/390], train_loss = 2.277, train_acc = 40.088\n",
      "epoch 1/100, step [32/390], train_loss = 2.269, train_acc = 40.332\n",
      "epoch 1/100, step [33/390], train_loss = 2.262, train_acc = 39.884\n",
      "epoch 1/100, step [34/390], train_loss = 2.252, train_acc = 40.165\n",
      "epoch 1/100, step [35/390], train_loss = 2.243, train_acc = 40.286\n",
      "epoch 1/100, step [36/390], train_loss = 2.361, train_acc = 39.972\n",
      "epoch 1/100, step [37/390], train_loss = 2.230, train_acc = 39.983\n",
      "epoch 1/100, step [38/390], train_loss = 2.223, train_acc = 40.007\n",
      "epoch 1/100, step [39/390], train_loss = 2.214, train_acc = 40.185\n",
      "epoch 1/100, step [40/390], train_loss = 2.206, train_acc = 40.272\n",
      "epoch 1/100, step [41/390], train_loss = 2.203, train_acc = 39.741\n",
      "epoch 1/100, step [42/390], train_loss = 2.193, train_acc = 40.355\n",
      "epoch 1/100, step [43/390], train_loss = 2.189, train_acc = 39.832\n",
      "epoch 1/100, step [44/390], train_loss = 2.184, train_acc = 39.956\n",
      "epoch 1/100, step [45/390], train_loss = 2.174, train_acc = 40.287\n",
      "epoch 1/100, step [46/390], train_loss = 2.171, train_acc = 39.910\n",
      "epoch 1/100, step [47/390], train_loss = 2.164, train_acc = 40.017\n",
      "epoch 1/100, step [48/390], train_loss = 2.160, train_acc = 39.972\n",
      "epoch 1/100, step [49/390], train_loss = 2.156, train_acc = 40.089\n",
      "epoch 1/100, step [50/390], train_loss = 2.149, train_acc = 39.974\n",
      "epoch 1/100, step [51/390], train_loss = 2.140, train_acc = 40.360\n",
      "epoch 1/100, step [52/390], train_loss = 2.138, train_acc = 40.034\n",
      "epoch 1/100, step [53/390], train_loss = 2.133, train_acc = 40.127\n",
      "epoch 1/100, step [54/390], train_loss = 2.129, train_acc = 40.084\n",
      "epoch 1/100, step [55/390], train_loss = 2.124, train_acc = 40.132\n",
      "epoch 1/100, step [56/390], train_loss = 2.120, train_acc = 39.963\n",
      "epoch 1/100, step [57/390], train_loss = 2.116, train_acc = 40.005\n",
      "epoch 1/100, step [58/390], train_loss = 2.115, train_acc = 40.002\n",
      "epoch 1/100, step [59/390], train_loss = 2.107, train_acc = 39.938\n",
      "epoch 1/100, step [60/390], train_loss = 2.101, train_acc = 40.247\n",
      "epoch 1/100, step [61/390], train_loss = 2.097, train_acc = 40.156\n",
      "epoch 1/100, step [62/390], train_loss = 2.092, train_acc = 40.184\n",
      "epoch 1/100, step [63/390], train_loss = 2.088, train_acc = 40.519\n",
      "epoch 1/100, step [64/390], train_loss = 2.089, train_acc = 39.940\n",
      "epoch 1/100, step [65/390], train_loss = 2.085, train_acc = 39.892\n",
      "epoch 1/100, step [66/390], train_loss = 2.080, train_acc = 40.197\n",
      "epoch 1/100, step [67/390], train_loss = 2.080, train_acc = 39.933\n",
      "epoch 1/100, step [68/390], train_loss = 2.077, train_acc = 39.906\n",
      "epoch 1/100, step [69/390], train_loss = 2.077, train_acc = 39.760\n",
      "epoch 1/100, step [70/390], train_loss = 2.070, train_acc = 39.973\n",
      "epoch 1/100, step [71/390], train_loss = 2.068, train_acc = 39.979\n",
      "epoch 1/100, step [72/390], train_loss = 2.065, train_acc = 39.937\n",
      "epoch 1/100, step [73/390], train_loss = 2.060, train_acc = 40.122\n",
      "epoch 1/100, step [74/390], train_loss = 2.062, train_acc = 39.810\n",
      "epoch 1/100, step [75/390], train_loss = 2.058, train_acc = 39.845\n",
      "epoch 1/100, step [76/390], train_loss = 2.056, train_acc = 39.916\n",
      "epoch 1/100, step [77/390], train_loss = 2.051, train_acc = 40.094\n",
      "epoch 1/100, step [78/390], train_loss = 2.049, train_acc = 40.080\n",
      "epoch 1/100, step [79/390], train_loss = 2.048, train_acc = 39.984\n",
      "epoch 1/100, step [80/390], train_loss = 2.049, train_acc = 39.868\n",
      "epoch 1/100, step [81/390], train_loss = 2.043, train_acc = 40.055\n",
      "epoch 1/100, step [82/390], train_loss = 2.043, train_acc = 39.985\n",
      "epoch 1/100, step [83/390], train_loss = 2.044, train_acc = 39.716\n",
      "epoch 1/100, step [84/390], train_loss = 2.035, train_acc = 40.194\n",
      "epoch 1/100, step [85/390], train_loss = 2.032, train_acc = 40.332\n",
      "epoch 1/100, step [86/390], train_loss = 2.031, train_acc = 40.256\n",
      "epoch 1/100, step [87/390], train_loss = 2.032, train_acc = 40.115\n",
      "epoch 1/100, step [88/390], train_loss = 2.032, train_acc = 40.042\n",
      "epoch 1/100, step [89/390], train_loss = 2.027, train_acc = 40.096\n",
      "epoch 1/100, step [90/390], train_loss = 2.027, train_acc = 40.063\n",
      "epoch 1/100, step [91/390], train_loss = 2.028, train_acc = 39.960\n",
      "epoch 1/100, step [92/390], train_loss = 2.026, train_acc = 40.009\n",
      "epoch 1/100, step [93/390], train_loss = 2.020, train_acc = 40.189\n",
      "epoch 1/100, step [94/390], train_loss = 2.018, train_acc = 40.395\n",
      "epoch 1/100, step [95/390], train_loss = 2.022, train_acc = 39.980\n",
      "epoch 1/100, step [96/390], train_loss = 2.022, train_acc = 39.835\n",
      "epoch 1/100, step [97/390], train_loss = 2.017, train_acc = 40.123\n",
      "epoch 1/100, step [98/390], train_loss = 2.014, train_acc = 40.251\n",
      "epoch 1/100, step [99/390], train_loss = 2.029, train_acc = 39.888\n",
      "epoch 1/100, step [100/390], train_loss = 2.015, train_acc = 40.106\n"
     ]
    }
   ],
   "source": [
    "# Training loop\n",
    "train_loss_d, train_acc_d, test_loss_d, test_acc_d = [], [], [], []\n",
    "running_loss = []\n",
    "running_acc = []\n",
    "n_total_step = len(train_loader)\n",
    "for epoch in range(num_epochs):\n",
    "    # Total loss on all training sample\n",
    "    total_loss = []\n",
    "    # Total accuracy on all training sample\n",
    "    total_acc = []\n",
    "    for i, (data, labels) in enumerate(train_loader):\n",
    "        # Batch size: 10000 \n",
    "        # 1000000, 81\n",
    "        labels = labels.to(device, dtype = torch.long) # Change labels to long data type for cross entropy\n",
    "        data = data.to(device)\n",
    "        \n",
    "        # forward \n",
    "        outputs = model(data)\n",
    "        loss = criterion(outputs, labels)\n",
    "        \n",
    "        # backward\n",
    "        optimizer.zero_grad()\n",
    "        loss.backward()\n",
    "        optimizer.step()\n",
    "        \n",
    "        # Batch loss\n",
    "        running_loss.append(loss.item())\n",
    "\n",
    "        # Batch accuracy calculate\n",
    "        _, predicted = torch.max(outputs, 1) # Get prediction on batch (shape: batch_size)\n",
    "        batch_correct_predicted = (predicted == labels).sum().item() # Get number of true prediction on batch\n",
    "        running_acc.append(batch_correct_predicted/batch_size*100) # Append prediction accuracy \n",
    "        if i % 10 == 0:\n",
    "            # Calculate average train loss on 10000 batch\n",
    "            avg_train_loss = np.mean(running_loss)\n",
    "            running_loss.clear()\n",
    "            # Calculate average train accuracy on 10000 batch\n",
    "            avg_train_acc = np.mean(running_acc)\n",
    "            running_acc.clear()\n",
    "            # Adding batch loss to total loss\n",
    "            # Calculate average test loss on all val dataset\n",
    "            #avg_test_loss = get_test_loss_acc(model, criterion, val_loader)['loss']\n",
    "            # Calculate average train accuracy on all val dataset\n",
    "            #avg_test_acc = get_test_loss_acc(model, criterion, val_loader)['acc']\n",
    "            total_loss.append(avg_train_loss)\n",
    "            # Adding batch accuracy to total accuracy\n",
    "            total_acc.append(avg_train_acc)\n",
    "            # Adding data to plot after training\n",
    "            train_loss_d.append(avg_train_loss) \n",
    "            train_acc_d.append(avg_train_acc) \n",
    "            #test_loss_d.append(avg_test_loss) \n",
    "            #test_acc_d.append(avg_test_acc) \n",
    "            #print(f'epoch {epoch + 1}/{num_epochs}, step [{i+1}/{n_total_step}], train_loss = {avg_train_loss:.3f}, train_acc = {avg_train_acc:.3f}, test_loss = {avg_test_loss:.3f}, test_acc = {avg_test_acc:.3f}')\n",
    "            print(f'epoch {epoch + 1}/{num_epochs}, step [{i+1}/{n_total_step}], train_loss = {avg_train_loss:.3f}, train_acc = {avg_train_acc:.3f}')\n",
    "            # Write plot data to csv file\n",
    "            #plot_data = [i+1,avg_train_loss,avg_train_acc,avg_test_loss,avg_test_acc]\n",
    "            #writer.writerow(plot_data)\n",
    "    scheduler.step()\n",
    "    #print('Epoch: [{}/{}], train_Loss: {:.3f}, train_accuracy: {:.3f}'.format(epoch + 1, num_epochs, np.mean(total_loss), np.mean(total_acc)))\n",
    "    #PATH = '/home/jun/CICIDS2019/saved_model/ANN_' + str(epoch+1) + 'epoch.pth'\n",
    "    torch.save(model.state_dict(), PATH)"
   ]
  }
 ],
 "metadata": {
  "kernelspec": {
   "display_name": "Python 3 (ipykernel)",
   "language": "python",
   "name": "python3"
  },
  "language_info": {
   "codemirror_mode": {
    "name": "ipython",
    "version": 3
   },
   "file_extension": ".py",
   "mimetype": "text/x-python",
   "name": "python",
   "nbconvert_exporter": "python",
   "pygments_lexer": "ipython3",
   "version": "3.11.3"
  },
  "orig_nbformat": 4
 },
 "nbformat": 4,
 "nbformat_minor": 2
}
